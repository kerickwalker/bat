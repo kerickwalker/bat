{
 "cells": [
  {
   "cell_type": "markdown",
   "id": "dedc2602",
   "metadata": {},
   "source": [
    "# Creating a convolutional network from scratch"
   ]
  },
  {
   "cell_type": "code",
   "execution_count": 5,
   "id": "701fb5bd",
   "metadata": {
    "scrolled": true
   },
   "outputs": [
    {
     "name": "stdout",
     "output_type": "stream",
     "text": [
      "Model: \"sequential\"\n",
      "_________________________________________________________________\n",
      " Layer (type)                Output Shape              Param #   \n",
      "=================================================================\n",
      " conv2d (Conv2D)             (None, 228, 150, 20)      1520      \n",
      "                                                                 \n",
      " dropout (Dropout)           (None, 228, 150, 20)      0         \n",
      "                                                                 \n",
      " conv2d_1 (Conv2D)           (None, 224, 146, 20)      10020     \n",
      "                                                                 \n",
      " dropout_1 (Dropout)         (None, 224, 146, 20)      0         \n",
      "                                                                 \n",
      " max_pooling2d (MaxPooling2D  (None, 74, 48, 20)       0         \n",
      " )                                                               \n",
      "                                                                 \n",
      " conv2d_2 (Conv2D)           (None, 70, 44, 20)        10020     \n",
      "                                                                 \n",
      " dropout_2 (Dropout)         (None, 70, 44, 20)        0         \n",
      "                                                                 \n",
      " conv2d_3 (Conv2D)           (None, 66, 40, 10)        5010      \n",
      "                                                                 \n",
      " dropout_3 (Dropout)         (None, 66, 40, 10)        0         \n",
      "                                                                 \n",
      " max_pooling2d_1 (MaxPooling  (None, 22, 13, 10)       0         \n",
      " 2D)                                                             \n",
      "                                                                 \n",
      " flatten (Flatten)           (None, 2860)              0         \n",
      "                                                                 \n",
      " dense (Dense)               (None, 4)                 11444     \n",
      "                                                                 \n",
      "=================================================================\n",
      "Total params: 38,014\n",
      "Trainable params: 38,014\n",
      "Non-trainable params: 0\n",
      "_________________________________________________________________\n"
     ]
    }
   ],
   "source": [
    "import tensorflow as tf\n",
    "from tensorflow.keras import models, layers\n",
    "\n",
    "conv_network = models.Sequential()\n",
    "conv_network.add(layers.Conv2D(20, (5,5), activation='relu', input_shape=(232, 154, 3)))\n",
    "conv_network.add(layers.Dropout(0.2))\n",
    "conv_network.add(layers.Conv2D(20, (5,5), activation='relu'))\n",
    "conv_network.add(layers.Dropout(0.2))\n",
    "conv_network.add(layers.MaxPooling2D(3,3))\n",
    "conv_network.add(layers.Conv2D(20, (5,5), activation='relu'))\n",
    "conv_network.add(layers.Dropout(0.2))\n",
    "conv_network.add(layers.Conv2D(10, (5,5), activation='relu'))\n",
    "conv_network.add(layers.Dropout(0.2))\n",
    "conv_network.add(layers.MaxPooling2D(3,3))\n",
    "conv_network.add(layers.Flatten())\n",
    "conv_network.add(layers.Dense(4, activation='softmax'))\n",
    "\n",
    "optimizer=tf.keras.optimizers.Adam(learning_rate=0.02)\n",
    "\n",
    "conv_network.compile(optimizer=optimizer, loss='mse', metrics=['accuracy'])\n",
    "\n",
    "conv_network.summary()"
   ]
  },
  {
   "cell_type": "markdown",
   "id": "4ab96d93",
   "metadata": {},
   "source": [
    "### Loading in the data"
   ]
  },
  {
   "cell_type": "code",
   "execution_count": 20,
   "id": "2a6353d7",
   "metadata": {
    "scrolled": true
   },
   "outputs": [
    {
     "name": "stdout",
     "output_type": "stream",
     "text": [
      "Found 2008 files belonging to 4 classes.\n",
      "Using 1607 files for training.\n",
      "Found 2008 files belonging to 4 classes.\n",
      "Using 401 files for validation.\n"
     ]
    }
   ],
   "source": [
    "data_dir = \"/Users/kerickwalker/src/dis/deep_learning/bat_data\"\n",
    "\n",
    "img_width = 154\n",
    "img_height = 232\n",
    "batch_size = 128\n",
    "\n",
    "# Load in the training data\n",
    "training_data = tf.keras.utils.image_dataset_from_directory(\n",
    "  data_dir,\n",
    "  validation_split=0.2,\n",
    "  subset=\"training\",\n",
    "  seed=123,\n",
    "  image_size=(img_height, img_width),\n",
    "  batch_size=batch_size)\n",
    "\n",
    "# Load in validation data\n",
    "validation_data = tf.keras.utils.image_dataset_from_directory(\n",
    "  data_dir,\n",
    "  validation_split=0.2,\n",
    "  subset=\"validation\",\n",
    "  seed=123,\n",
    "  image_size=(img_height, img_width),\n",
    "  batch_size=batch_size)"
   ]
  },
  {
   "cell_type": "markdown",
   "id": "cd4adeaa",
   "metadata": {},
   "source": [
    "### Training our network"
   ]
  },
  {
   "cell_type": "code",
   "execution_count": null,
   "id": "c1d53cef",
   "metadata": {},
   "outputs": [],
   "source": [
    "conv_network.fit(training_data, validation_data=validation_data, epochs=10)"
   ]
  },
  {
   "cell_type": "markdown",
   "id": "8a22d520",
   "metadata": {},
   "source": [
    "# Transfer Learning with MobileNetV2"
   ]
  },
  {
   "cell_type": "code",
   "execution_count": 1,
   "id": "32c2dd65",
   "metadata": {},
   "outputs": [
    {
     "name": "stderr",
     "output_type": "stream",
     "text": [
      "2023-12-04 12:33:22.672010: I tensorflow/core/platform/cpu_feature_guard.cc:182] This TensorFlow binary is optimized to use available CPU instructions in performance-critical operations.\n",
      "To enable the following instructions: SSE4.1 SSE4.2 AVX AVX2 FMA, in other operations, rebuild TensorFlow with the appropriate compiler flags.\n"
     ]
    }
   ],
   "source": [
    "import tensorflow as tf\n",
    "from tensorflow.keras.preprocessing.image import ImageDataGenerator\n",
    "from tensorflow.keras.applications import MobileNetV2\n",
    "from tensorflow.keras import layers, models"
   ]
  },
  {
   "cell_type": "code",
   "execution_count": 5,
   "id": "bcff2372",
   "metadata": {},
   "outputs": [],
   "source": [
    "# Note that the file paths here refer to my local file structure:\n",
    "# I have a training data directory and a test data directory\n",
    "# Both directories contain sub_directories with corresponding names\n",
    "# The test data directory contains 10% of the total data.\n",
    "# We are employing an 80/10/10 train, validation, test split\n",
    "\n",
    "img_size = (232, 154)\n",
    "batch_size = 32\n",
    "train_data_dir = \"/Users/kerickwalker/src/dis/deep_learning/train_bat_data\"\n",
    "test_data_dir = \"/Users/kerickwalker/src/dis/deep_learning/test_bat_data\""
   ]
  },
  {
   "cell_type": "code",
   "execution_count": 6,
   "id": "26d31c9f",
   "metadata": {},
   "outputs": [
    {
     "name": "stdout",
     "output_type": "stream",
     "text": [
      "Found 1612 images belonging to 4 classes.\n",
      "Found 197 images belonging to 4 classes.\n"
     ]
    }
   ],
   "source": [
    "# Generate training and validation data\n",
    "\n",
    "train_datagen = ImageDataGenerator(\n",
    "    rescale=1./255,\n",
    "    rotation_range=20,\n",
    "    width_shift_range=0.2,\n",
    "    height_shift_range=0.2,\n",
    "    shear_range=0.2,\n",
    "    zoom_range=0.2,\n",
    "    horizontal_flip=True,\n",
    "    fill_mode='nearest',\n",
    "    validation_split = 0.11\n",
    ")\n",
    "\n",
    "train_generator = train_datagen.flow_from_directory(\n",
    "    train_data_dir,\n",
    "    target_size=img_size,\n",
    "    batch_size=batch_size,\n",
    "    class_mode='categorical',\n",
    "    shuffle=True,\n",
    "    subset='training'\n",
    ")\n",
    "\n",
    "validation_generator = train_datagen.flow_from_directory(\n",
    "    train_data_dir,\n",
    "    target_size=img_size,\n",
    "    batch_size=batch_size,\n",
    "    class_mode='categorical',\n",
    "    shuffle=True,\n",
    "    subset='validation'\n",
    ")"
   ]
  },
  {
   "cell_type": "code",
   "execution_count": 7,
   "id": "544cb941",
   "metadata": {},
   "outputs": [
    {
     "name": "stdout",
     "output_type": "stream",
     "text": [
      "Found 199 images belonging to 4 classes.\n"
     ]
    }
   ],
   "source": [
    "# Generate test data\n",
    "\n",
    "test_datagen = ImageDataGenerator(\n",
    "    rescale=1./255,\n",
    ")\n",
    "\n",
    "test_generator = train_datagen.flow_from_directory(\n",
    "    test_data_dir,\n",
    "    target_size=img_size,\n",
    "    batch_size=batch_size,\n",
    "    class_mode='categorical',\n",
    ")"
   ]
  },
  {
   "cell_type": "code",
   "execution_count": 8,
   "id": "cf420374",
   "metadata": {
    "scrolled": true
   },
   "outputs": [
    {
     "name": "stdout",
     "output_type": "stream",
     "text": [
      "WARNING:tensorflow:`input_shape` is undefined or non-square, or `rows` is not in [96, 128, 160, 192, 224]. Weights for input shape (224, 224) will be loaded as the default.\n"
     ]
    }
   ],
   "source": [
    "base_model = MobileNetV2(\n",
    "    input_shape=(232, 154, 3),\n",
    "    include_top=False,\n",
    "    weights='imagenet'\n",
    ")"
   ]
  },
  {
   "cell_type": "code",
   "execution_count": 10,
   "id": "e7e027fb",
   "metadata": {},
   "outputs": [],
   "source": [
    "for layer in base_model.layers:\n",
    "    layer.trainable = False"
   ]
  },
  {
   "cell_type": "code",
   "execution_count": 11,
   "id": "2bd9014d",
   "metadata": {},
   "outputs": [],
   "source": [
    "model = models.Sequential()\n",
    "model.add(base_model)\n",
    "model.add(layers.GlobalAveragePooling2D())\n",
    "model.add(layers.Dense(256, activation='relu'))\n",
    "model.add(layers.Dropout(0.5))\n",
    "model.add(layers.Dense(4, activation='softmax'))"
   ]
  },
  {
   "cell_type": "code",
   "execution_count": 16,
   "id": "04aef745",
   "metadata": {},
   "outputs": [],
   "source": [
    "model.compile(\n",
    "    optimizer='adam',\n",
    "    loss='categorical_crossentropy',\n",
    "    metrics=['accuracy']\n",
    ")"
   ]
  },
  {
   "cell_type": "code",
   "execution_count": 17,
   "id": "4f624f89",
   "metadata": {},
   "outputs": [
    {
     "name": "stdout",
     "output_type": "stream",
     "text": [
      "Epoch 1/10\n"
     ]
    },
    {
     "name": "stderr",
     "output_type": "stream",
     "text": [
      "2023-12-04 12:47:37.966974: I tensorflow/core/common_runtime/executor.cc:1197] [/device:CPU:0] (DEBUG INFO) Executor start aborting (this does not indicate an error and you can ignore this message): INVALID_ARGUMENT: You must feed a value for placeholder tensor 'Placeholder/_0' with dtype int32\n",
      "\t [[{{node Placeholder/_0}}]]\n"
     ]
    },
    {
     "name": "stdout",
     "output_type": "stream",
     "text": [
      "50/50 [==============================] - 46s 865ms/step - loss: 0.1477 - accuracy: 0.9424 - val_loss: 0.3632 - val_accuracy: 0.8934\n",
      "Epoch 2/10\n",
      "50/50 [==============================] - 44s 886ms/step - loss: 0.1585 - accuracy: 0.9392 - val_loss: 0.2646 - val_accuracy: 0.9289\n",
      "Epoch 3/10\n",
      "50/50 [==============================] - 47s 928ms/step - loss: 0.1477 - accuracy: 0.9449 - val_loss: 0.3426 - val_accuracy: 0.9036\n",
      "Epoch 4/10\n",
      "50/50 [==============================] - 45s 890ms/step - loss: 0.1364 - accuracy: 0.9405 - val_loss: 0.3844 - val_accuracy: 0.9137\n",
      "Epoch 5/10\n",
      "50/50 [==============================] - 45s 888ms/step - loss: 0.1287 - accuracy: 0.9475 - val_loss: 0.3218 - val_accuracy: 0.9036\n",
      "Epoch 6/10\n",
      "50/50 [==============================] - 45s 891ms/step - loss: 0.1275 - accuracy: 0.9500 - val_loss: 0.4608 - val_accuracy: 0.9036\n",
      "Epoch 7/10\n",
      "50/50 [==============================] - 43s 863ms/step - loss: 0.1350 - accuracy: 0.9456 - val_loss: 0.2310 - val_accuracy: 0.9289\n",
      "Epoch 8/10\n",
      "50/50 [==============================] - 44s 870ms/step - loss: 0.1292 - accuracy: 0.9513 - val_loss: 0.3629 - val_accuracy: 0.9036\n",
      "Epoch 9/10\n",
      "50/50 [==============================] - 44s 882ms/step - loss: 0.1243 - accuracy: 0.9506 - val_loss: 0.3429 - val_accuracy: 0.9137\n",
      "Epoch 10/10\n",
      "50/50 [==============================] - 45s 903ms/step - loss: 0.0985 - accuracy: 0.9601 - val_loss: 0.4023 - val_accuracy: 0.9036\n"
     ]
    },
    {
     "data": {
      "text/plain": [
       "<keras.callbacks.History at 0x128f88b50>"
      ]
     },
     "execution_count": 17,
     "metadata": {},
     "output_type": "execute_result"
    }
   ],
   "source": [
    "model.fit(\n",
    "    train_generator,\n",
    "    validation_data = validation_generator,\n",
    "    steps_per_epoch=train_generator.samples // batch_size,\n",
    "    epochs=10\n",
    ")"
   ]
  },
  {
   "cell_type": "code",
   "execution_count": 18,
   "id": "4fbeb52c",
   "metadata": {
    "scrolled": false
   },
   "outputs": [
    {
     "name": "stderr",
     "output_type": "stream",
     "text": [
      "2023-12-04 12:55:08.377453: I tensorflow/core/common_runtime/executor.cc:1197] [/device:CPU:0] (DEBUG INFO) Executor start aborting (this does not indicate an error and you can ignore this message): INVALID_ARGUMENT: You must feed a value for placeholder tensor 'Placeholder/_0' with dtype int32\n",
      "\t [[{{node Placeholder/_0}}]]\n"
     ]
    },
    {
     "name": "stdout",
     "output_type": "stream",
     "text": [
      "7/7 [==============================] - 5s 694ms/step - loss: 0.1528 - accuracy: 0.9447\n"
     ]
    }
   ],
   "source": [
    "score = model.evaluate(\n",
    "    x = test_generator, \n",
    "    batch_size = batch_size\n",
    ")"
   ]
  },
  {
   "cell_type": "code",
   "execution_count": 19,
   "id": "c7b13ef5",
   "metadata": {},
   "outputs": [],
   "source": [
    "# Saves the model to the github repository\n",
    "# (Again, file path refers to my local file structure)\n",
    "\n",
    "model.save('/Users/kerickwalker/src/dis/deep_learning/bat/model.keras')"
   ]
  }
 ],
 "metadata": {
  "kernelspec": {
   "display_name": "disdl",
   "language": "python",
   "name": "disdl"
  },
  "language_info": {
   "codemirror_mode": {
    "name": "ipython",
    "version": 3
   },
   "file_extension": ".py",
   "mimetype": "text/x-python",
   "name": "python",
   "nbconvert_exporter": "python",
   "pygments_lexer": "ipython3",
   "version": "3.11.5"
  }
 },
 "nbformat": 4,
 "nbformat_minor": 5
}
