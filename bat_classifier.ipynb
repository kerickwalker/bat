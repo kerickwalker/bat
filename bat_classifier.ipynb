{
 "cells": [
  {
   "cell_type": "markdown",
   "id": "dedc2602",
   "metadata": {},
   "source": [
    "# Creating a convolutional network from scratch"
   ]
  },
  {
   "cell_type": "markdown",
   "id": "4e0b2d9a",
   "metadata": {},
   "source": [
    "The code cells below initialize and train a CNN for classifying the bat data from scratch.  In order to run these cells, you will need both the test data and training data directories linked in the repository's read me.  You will also need to update the file path variables in the 'loading the data' cell"
   ]
  },
  {
   "cell_type": "code",
   "execution_count": 1,
   "id": "5ff7ad1c",
   "metadata": {},
   "outputs": [
    {
     "name": "stderr",
     "output_type": "stream",
     "text": [
      "2023-12-04 23:07:40.204433: I tensorflow/core/platform/cpu_feature_guard.cc:182] This TensorFlow binary is optimized to use available CPU instructions in performance-critical operations.\n",
      "To enable the following instructions: SSE4.1 SSE4.2 AVX AVX2 FMA, in other operations, rebuild TensorFlow with the appropriate compiler flags.\n"
     ]
    }
   ],
   "source": [
    "import tensorflow as tf\n",
    "from tensorflow.keras import models, layers"
   ]
  },
  {
   "cell_type": "code",
   "execution_count": 2,
   "id": "701fb5bd",
   "metadata": {
    "scrolled": true
   },
   "outputs": [
    {
     "name": "stdout",
     "output_type": "stream",
     "text": [
      "Model: \"sequential\"\n",
      "_________________________________________________________________\n",
      " Layer (type)                Output Shape              Param #   \n",
      "=================================================================\n",
      " conv2d (Conv2D)             (None, 228, 150, 20)      1520      \n",
      "                                                                 \n",
      " dropout (Dropout)           (None, 228, 150, 20)      0         \n",
      "                                                                 \n",
      " conv2d_1 (Conv2D)           (None, 224, 146, 20)      10020     \n",
      "                                                                 \n",
      " dropout_1 (Dropout)         (None, 224, 146, 20)      0         \n",
      "                                                                 \n",
      " max_pooling2d (MaxPooling2D  (None, 74, 48, 20)       0         \n",
      " )                                                               \n",
      "                                                                 \n",
      " conv2d_2 (Conv2D)           (None, 70, 44, 20)        10020     \n",
      "                                                                 \n",
      " dropout_2 (Dropout)         (None, 70, 44, 20)        0         \n",
      "                                                                 \n",
      " conv2d_3 (Conv2D)           (None, 66, 40, 10)        5010      \n",
      "                                                                 \n",
      " dropout_3 (Dropout)         (None, 66, 40, 10)        0         \n",
      "                                                                 \n",
      " max_pooling2d_1 (MaxPooling  (None, 22, 13, 10)       0         \n",
      " 2D)                                                             \n",
      "                                                                 \n",
      " flatten (Flatten)           (None, 2860)              0         \n",
      "                                                                 \n",
      " dense (Dense)               (None, 4)                 11444     \n",
      "                                                                 \n",
      "=================================================================\n",
      "Total params: 38,014\n",
      "Trainable params: 38,014\n",
      "Non-trainable params: 0\n",
      "_________________________________________________________________\n"
     ]
    }
   ],
   "source": [
    "conv_network = models.Sequential()\n",
    "conv_network.add(layers.Conv2D(20, (5,5), activation='relu', input_shape=(232, 154, 3)))\n",
    "conv_network.add(layers.Dropout(0.2))\n",
    "conv_network.add(layers.Conv2D(20, (5,5), activation='relu'))\n",
    "conv_network.add(layers.Dropout(0.2))\n",
    "conv_network.add(layers.MaxPooling2D(3,3))\n",
    "conv_network.add(layers.Conv2D(20, (5,5), activation='relu'))\n",
    "conv_network.add(layers.Dropout(0.2))\n",
    "conv_network.add(layers.Conv2D(10, (5,5), activation='relu'))\n",
    "conv_network.add(layers.Dropout(0.2))\n",
    "conv_network.add(layers.MaxPooling2D(3,3))\n",
    "conv_network.add(layers.Flatten())\n",
    "conv_network.add(layers.Dense(4, activation='softmax'))\n",
    "\n",
    "optimizer=tf.keras.optimizers.Adam(learning_rate=0.02)\n",
    "\n",
    "conv_network.compile(optimizer=optimizer, loss='mse', metrics=['accuracy'])\n",
    "\n",
    "conv_network.summary()"
   ]
  },
  {
   "cell_type": "markdown",
   "id": "4ab96d93",
   "metadata": {},
   "source": [
    "### Loading in the data"
   ]
  },
  {
   "cell_type": "code",
   "execution_count": 3,
   "id": "2a6353d7",
   "metadata": {
    "scrolled": true
   },
   "outputs": [
    {
     "name": "stdout",
     "output_type": "stream",
     "text": [
      "Found 1809 files belonging to 4 classes.\n",
      "Using 1611 files for training.\n",
      "Found 1809 files belonging to 4 classes.\n",
      "Using 198 files for validation.\n",
      "Found 199 files belonging to 4 classes.\n"
     ]
    }
   ],
   "source": [
    "train_data_dir = \"/Users/kerickwalker/src/dis/deep_learning/train_bat_data\"\n",
    "test_data_dir = \"/Users/kerickwalker/src/dis/deep_learning/test_bat_data\"\n",
    "# Update these file paths in acccordance with your local machine\n",
    "\n",
    "img_width = 154\n",
    "img_height = 232\n",
    "batch_size = 32\n",
    "\n",
    "training_data = tf.keras.utils.image_dataset_from_directory(\n",
    "  train_data_dir,\n",
    "  validation_split=0.11,\n",
    "  subset=\"training\",\n",
    "  seed=123,\n",
    "  image_size=(img_height, img_width),\n",
    "  batch_size=batch_size\n",
    ")\n",
    "\n",
    "validation_data = tf.keras.utils.image_dataset_from_directory(\n",
    "  train_data_dir,\n",
    "  validation_split=0.11,\n",
    "  subset=\"validation\",\n",
    "  seed=123,\n",
    "  image_size=(img_height, img_width),\n",
    "  batch_size=batch_size\n",
    ")\n",
    "\n",
    "test_data = tf.keras.utils.image_dataset_from_directory(\n",
    "    test_data_dir,\n",
    "    seed=123,\n",
    "    image_size=(img_height, img_width),\n",
    "    batch_size=batch_size\n",
    "    \n",
    ")"
   ]
  },
  {
   "cell_type": "markdown",
   "id": "cd4adeaa",
   "metadata": {},
   "source": [
    "### Training our network"
   ]
  },
  {
   "cell_type": "code",
   "execution_count": 4,
   "id": "c1d53cef",
   "metadata": {},
   "outputs": [
    {
     "name": "stdout",
     "output_type": "stream",
     "text": [
      "Epoch 1/10\n"
     ]
    },
    {
     "name": "stderr",
     "output_type": "stream",
     "text": [
      "2023-12-04 23:07:46.751346: I tensorflow/core/common_runtime/executor.cc:1197] [/device:CPU:0] (DEBUG INFO) Executor start aborting (this does not indicate an error and you can ignore this message): INVALID_ARGUMENT: You must feed a value for placeholder tensor 'Placeholder/_4' with dtype int32 and shape [1611]\n",
      "\t [[{{node Placeholder/_4}}]]\n",
      "2023-12-04 23:07:46.751648: I tensorflow/core/common_runtime/executor.cc:1197] [/device:CPU:0] (DEBUG INFO) Executor start aborting (this does not indicate an error and you can ignore this message): INVALID_ARGUMENT: You must feed a value for placeholder tensor 'Placeholder/_4' with dtype int32 and shape [1611]\n",
      "\t [[{{node Placeholder/_4}}]]\n"
     ]
    },
    {
     "name": "stdout",
     "output_type": "stream",
     "text": [
      "51/51 [==============================] - ETA: 0s - loss: 2.7320 - accuracy: 0.6468"
     ]
    },
    {
     "name": "stderr",
     "output_type": "stream",
     "text": [
      "2023-12-04 23:10:24.172587: I tensorflow/core/common_runtime/executor.cc:1197] [/device:CPU:0] (DEBUG INFO) Executor start aborting (this does not indicate an error and you can ignore this message): INVALID_ARGUMENT: You must feed a value for placeholder tensor 'Placeholder/_4' with dtype int32 and shape [198]\n",
      "\t [[{{node Placeholder/_4}}]]\n",
      "2023-12-04 23:10:24.173620: I tensorflow/core/common_runtime/executor.cc:1197] [/device:CPU:0] (DEBUG INFO) Executor start aborting (this does not indicate an error and you can ignore this message): INVALID_ARGUMENT: You must feed a value for placeholder tensor 'Placeholder/_4' with dtype int32 and shape [198]\n",
      "\t [[{{node Placeholder/_4}}]]\n"
     ]
    },
    {
     "name": "stdout",
     "output_type": "stream",
     "text": [
      "51/51 [==============================] - 163s 3s/step - loss: 2.7320 - accuracy: 0.6468 - val_loss: 2.7601 - val_accuracy: 0.6919\n",
      "Epoch 2/10\n",
      "51/51 [==============================] - 162s 3s/step - loss: 2.7320 - accuracy: 0.6567 - val_loss: 2.7601 - val_accuracy: 0.6919\n",
      "Epoch 3/10\n",
      "51/51 [==============================] - 173s 3s/step - loss: 2.7320 - accuracy: 0.6561 - val_loss: 2.7601 - val_accuracy: 0.6919\n",
      "Epoch 4/10\n",
      "51/51 [==============================] - 165s 3s/step - loss: 2.7320 - accuracy: 0.6561 - val_loss: 2.7601 - val_accuracy: 0.6919\n",
      "Epoch 5/10\n",
      "51/51 [==============================] - 169s 3s/step - loss: 2.7320 - accuracy: 0.6561 - val_loss: 2.7601 - val_accuracy: 0.6919\n",
      "Epoch 6/10\n",
      "51/51 [==============================] - 155s 3s/step - loss: 2.7320 - accuracy: 0.6561 - val_loss: 2.7601 - val_accuracy: 0.6919\n",
      "Epoch 7/10\n",
      "51/51 [==============================] - 118s 2s/step - loss: 2.7320 - accuracy: 0.6574 - val_loss: 2.7601 - val_accuracy: 0.6919\n",
      "Epoch 8/10\n",
      "51/51 [==============================] - 162s 3s/step - loss: 2.7320 - accuracy: 0.6561 - val_loss: 2.7601 - val_accuracy: 0.6919\n",
      "Epoch 9/10\n",
      "51/51 [==============================] - 158s 3s/step - loss: 2.7320 - accuracy: 0.6574 - val_loss: 2.7601 - val_accuracy: 0.6919\n",
      "Epoch 10/10\n",
      "51/51 [==============================] - 128s 3s/step - loss: 2.7320 - accuracy: 0.6561 - val_loss: 2.7601 - val_accuracy: 0.6919\n"
     ]
    },
    {
     "data": {
      "text/plain": [
       "<keras.callbacks.History at 0x13042fd10>"
      ]
     },
     "execution_count": 4,
     "metadata": {},
     "output_type": "execute_result"
    }
   ],
   "source": [
    "conv_network.fit(training_data, validation_data=validation_data, epochs=10)"
   ]
  },
  {
   "cell_type": "markdown",
   "id": "05d56175",
   "metadata": {},
   "source": [
    "### Evaluation"
   ]
  },
  {
   "cell_type": "code",
   "execution_count": 5,
   "id": "a80a4d1c",
   "metadata": {},
   "outputs": [
    {
     "name": "stderr",
     "output_type": "stream",
     "text": [
      "2023-12-04 23:33:40.008340: I tensorflow/core/common_runtime/executor.cc:1197] [/device:CPU:0] (DEBUG INFO) Executor start aborting (this does not indicate an error and you can ignore this message): INVALID_ARGUMENT: You must feed a value for placeholder tensor 'Placeholder/_4' with dtype int32 and shape [199]\n",
      "\t [[{{node Placeholder/_4}}]]\n",
      "2023-12-04 23:33:40.009375: I tensorflow/core/common_runtime/executor.cc:1197] [/device:CPU:0] (DEBUG INFO) Executor start aborting (this does not indicate an error and you can ignore this message): INVALID_ARGUMENT: You must feed a value for placeholder tensor 'Placeholder/_0' with dtype string and shape [199]\n",
      "\t [[{{node Placeholder/_0}}]]\n"
     ]
    },
    {
     "name": "stdout",
     "output_type": "stream",
     "text": [
      "7/7 [==============================] - 3s 430ms/step - loss: 2.7249 - accuracy: 0.6633\n"
     ]
    }
   ],
   "source": [
    "score = conv_network.evaluate(\n",
    "    x = test_data, \n",
    "    batch_size = batch_size\n",
    ")"
   ]
  },
  {
   "cell_type": "markdown",
   "id": "8a22d520",
   "metadata": {},
   "source": [
    "# Transfer Learning with MobileNetV2"
   ]
  },
  {
   "cell_type": "code",
   "execution_count": 6,
   "id": "32c2dd65",
   "metadata": {},
   "outputs": [],
   "source": [
    "from tensorflow.keras.preprocessing.image import ImageDataGenerator\n",
    "from tensorflow.keras.applications import MobileNetV2\n",
    "import matplotlib.pyplot as plt"
   ]
  },
  {
   "cell_type": "markdown",
   "id": "dc6c2e12",
   "metadata": {},
   "source": [
    "### Loading in the data"
   ]
  },
  {
   "cell_type": "code",
   "execution_count": 7,
   "id": "26d31c9f",
   "metadata": {},
   "outputs": [
    {
     "name": "stdout",
     "output_type": "stream",
     "text": [
      "Found 1612 images belonging to 4 classes.\n",
      "Found 197 images belonging to 4 classes.\n"
     ]
    }
   ],
   "source": [
    "# Generate training and validation data.\n",
    "# Here we used ImageDataGenerator for easy preprocessing\n",
    "# and data augmentation.\n",
    "\n",
    "train_datagen = ImageDataGenerator(\n",
    "    rescale=1./255,\n",
    "    rotation_range=20,\n",
    "    width_shift_range=0.2,\n",
    "    height_shift_range=0.2,\n",
    "    shear_range=0.2,\n",
    "    zoom_range=0.2,\n",
    "    horizontal_flip=True,\n",
    "    fill_mode='nearest',\n",
    "    validation_split = 0.11\n",
    ")\n",
    "\n",
    "train_generator = train_datagen.flow_from_directory(\n",
    "    train_data_dir,\n",
    "    target_size=(img_height, img_width),\n",
    "    batch_size=batch_size,\n",
    "    class_mode='categorical',\n",
    "    shuffle=True,\n",
    "    subset='training'\n",
    ")\n",
    "\n",
    "validation_generator = train_datagen.flow_from_directory(\n",
    "    train_data_dir,\n",
    "    target_size=(img_height, img_width),\n",
    "    batch_size=batch_size,\n",
    "    class_mode='categorical',\n",
    "    shuffle=True,\n",
    "    subset='validation'\n",
    ")"
   ]
  },
  {
   "cell_type": "code",
   "execution_count": 8,
   "id": "544cb941",
   "metadata": {
    "scrolled": true
   },
   "outputs": [
    {
     "name": "stdout",
     "output_type": "stream",
     "text": [
      "Found 199 images belonging to 4 classes.\n"
     ]
    }
   ],
   "source": [
    "# Generate test data.  No data augmentation is done here.\n",
    "\n",
    "test_datagen = ImageDataGenerator(\n",
    "    rescale=1./255,\n",
    ")\n",
    "\n",
    "test_generator = train_datagen.flow_from_directory(\n",
    "    test_data_dir,\n",
    "    target_size=(img_height, img_width),\n",
    "    batch_size=batch_size,\n",
    "    class_mode='categorical',\n",
    ")"
   ]
  },
  {
   "cell_type": "markdown",
   "id": "ff9452e1",
   "metadata": {},
   "source": [
    "### Creating the model"
   ]
  },
  {
   "cell_type": "code",
   "execution_count": 9,
   "id": "cf420374",
   "metadata": {
    "scrolled": true
   },
   "outputs": [
    {
     "name": "stdout",
     "output_type": "stream",
     "text": [
      "WARNING:tensorflow:`input_shape` is undefined or non-square, or `rows` is not in [96, 128, 160, 192, 224]. Weights for input shape (224, 224) will be loaded as the default.\n"
     ]
    }
   ],
   "source": [
    "base_model = MobileNetV2(\n",
    "    input_shape=(232, 154, 3),\n",
    "    include_top=False,\n",
    "    weights='imagenet'\n",
    ")"
   ]
  },
  {
   "cell_type": "code",
   "execution_count": 10,
   "id": "e7e027fb",
   "metadata": {},
   "outputs": [],
   "source": [
    "for layer in base_model.layers:\n",
    "    layer.trainable = False"
   ]
  },
  {
   "cell_type": "code",
   "execution_count": 11,
   "id": "2bd9014d",
   "metadata": {},
   "outputs": [],
   "source": [
    "model = models.Sequential()\n",
    "model.add(base_model)\n",
    "model.add(layers.GlobalAveragePooling2D())\n",
    "model.add(layers.Dense(256, activation='relu'))\n",
    "model.add(layers.Dropout(0.5))\n",
    "model.add(layers.Dense(4, activation='softmax'))"
   ]
  },
  {
   "cell_type": "code",
   "execution_count": 12,
   "id": "04aef745",
   "metadata": {},
   "outputs": [],
   "source": [
    "model.compile(\n",
    "    optimizer='adam',\n",
    "    loss='categorical_crossentropy',\n",
    "    metrics=['accuracy']\n",
    ")"
   ]
  },
  {
   "cell_type": "markdown",
   "id": "7705cb6f",
   "metadata": {},
   "source": [
    "### Training the Model"
   ]
  },
  {
   "cell_type": "code",
   "execution_count": 13,
   "id": "4f624f89",
   "metadata": {
    "scrolled": false
   },
   "outputs": [
    {
     "name": "stdout",
     "output_type": "stream",
     "text": [
      "Epoch 1/10\n"
     ]
    },
    {
     "name": "stderr",
     "output_type": "stream",
     "text": [
      "2023-12-04 23:33:46.369713: I tensorflow/core/common_runtime/executor.cc:1197] [/device:CPU:0] (DEBUG INFO) Executor start aborting (this does not indicate an error and you can ignore this message): INVALID_ARGUMENT: You must feed a value for placeholder tensor 'Placeholder/_0' with dtype int32\n",
      "\t [[{{node Placeholder/_0}}]]\n"
     ]
    },
    {
     "name": "stdout",
     "output_type": "stream",
     "text": [
      "50/50 [==============================] - ETA: 0s - loss: 0.6620 - accuracy: 0.7424"
     ]
    },
    {
     "name": "stderr",
     "output_type": "stream",
     "text": [
      "2023-12-04 23:34:42.223903: I tensorflow/core/common_runtime/executor.cc:1197] [/device:CPU:0] (DEBUG INFO) Executor start aborting (this does not indicate an error and you can ignore this message): INVALID_ARGUMENT: You must feed a value for placeholder tensor 'Placeholder/_0' with dtype int32\n",
      "\t [[{{node Placeholder/_0}}]]\n"
     ]
    },
    {
     "name": "stdout",
     "output_type": "stream",
     "text": [
      "50/50 [==============================] - 63s 1s/step - loss: 0.6620 - accuracy: 0.7424 - val_loss: 0.4276 - val_accuracy: 0.8426\n",
      "Epoch 2/10\n",
      "50/50 [==============================] - 45s 899ms/step - loss: 0.2919 - accuracy: 0.8886 - val_loss: 0.3839 - val_accuracy: 0.8680\n",
      "Epoch 3/10\n",
      "50/50 [==============================] - 45s 896ms/step - loss: 0.2520 - accuracy: 0.8981 - val_loss: 0.3031 - val_accuracy: 0.8731\n",
      "Epoch 4/10\n",
      "50/50 [==============================] - 44s 877ms/step - loss: 0.2038 - accuracy: 0.9203 - val_loss: 0.3626 - val_accuracy: 0.8832\n",
      "Epoch 5/10\n",
      "50/50 [==============================] - 44s 880ms/step - loss: 0.1796 - accuracy: 0.9411 - val_loss: 0.2978 - val_accuracy: 0.8934\n",
      "Epoch 6/10\n",
      "50/50 [==============================] - 50s 1s/step - loss: 0.1741 - accuracy: 0.9361 - val_loss: 0.4179 - val_accuracy: 0.8629\n",
      "Epoch 7/10\n",
      "50/50 [==============================] - 49s 981ms/step - loss: 0.1522 - accuracy: 0.9386 - val_loss: 0.2484 - val_accuracy: 0.9137\n",
      "Epoch 8/10\n",
      "50/50 [==============================] - 47s 923ms/step - loss: 0.1390 - accuracy: 0.9437 - val_loss: 0.2883 - val_accuracy: 0.9036\n",
      "Epoch 9/10\n",
      "50/50 [==============================] - 45s 893ms/step - loss: 0.1510 - accuracy: 0.9380 - val_loss: 0.3843 - val_accuracy: 0.8832\n",
      "Epoch 10/10\n",
      "50/50 [==============================] - 49s 978ms/step - loss: 0.1464 - accuracy: 0.9468 - val_loss: 0.3071 - val_accuracy: 0.9137\n"
     ]
    }
   ],
   "source": [
    "history = model.fit(\n",
    "    train_generator,\n",
    "    validation_data = validation_generator,\n",
    "    steps_per_epoch=train_generator.samples // batch_size,\n",
    "    epochs=10\n",
    ")"
   ]
  },
  {
   "cell_type": "markdown",
   "id": "f100f90f",
   "metadata": {},
   "source": [
    "### Evaluation"
   ]
  },
  {
   "cell_type": "code",
   "execution_count": 14,
   "id": "4fbeb52c",
   "metadata": {
    "scrolled": false
   },
   "outputs": [
    {
     "name": "stderr",
     "output_type": "stream",
     "text": [
      "2023-12-04 23:41:48.478467: I tensorflow/core/common_runtime/executor.cc:1197] [/device:CPU:0] (DEBUG INFO) Executor start aborting (this does not indicate an error and you can ignore this message): INVALID_ARGUMENT: You must feed a value for placeholder tensor 'Placeholder/_0' with dtype int32\n",
      "\t [[{{node Placeholder/_0}}]]\n"
     ]
    },
    {
     "name": "stdout",
     "output_type": "stream",
     "text": [
      "7/7 [==============================] - 5s 736ms/step - loss: 0.1476 - accuracy: 0.9246\n",
      "[0.1475735455751419, 0.9246231317520142]\n"
     ]
    }
   ],
   "source": [
    "score = model.evaluate(\n",
    "    x = test_generator, \n",
    "    batch_size = batch_size\n",
    ")\n",
    "\n",
    "print(score)"
   ]
  },
  {
   "cell_type": "code",
   "execution_count": 15,
   "id": "fd1ab27c",
   "metadata": {},
   "outputs": [],
   "source": [
    "# ONLY RUN THIS BLOCK IF YOU WANT TO SAVE THE CURRENT MODEL\n",
    "# (Again, file path should be changed to reflect local file structure)\n",
    "\n",
    "model.save('/Users/kerickwalker/src/dis/deep_learning/bat/model.keras')"
   ]
  },
  {
   "cell_type": "markdown",
   "id": "f9712b97",
   "metadata": {},
   "source": [
    "# Further Exploration of the Data"
   ]
  },
  {
   "cell_type": "markdown",
   "id": "7b4f7b1d",
   "metadata": {},
   "source": [
    "### Plotting Training vs. Validation Accuracy during training"
   ]
  },
  {
   "cell_type": "code",
   "execution_count": 16,
   "id": "fc46d02c",
   "metadata": {},
   "outputs": [
    {
     "data": {
      "text/plain": [
       "[]"
      ]
     },
     "execution_count": 16,
     "metadata": {},
     "output_type": "execute_result"
    },
    {
     "data": {
      "image/png": "[encoded data removed]",
      "text/plain": [
       "<Figure size 432x288 with 1 Axes>"
      ]
     },
     "metadata": {
      "needs_background": "light"
     },
     "output_type": "display_data"
    }
   ],
   "source": [
    "acc = history.history['accuracy']\n",
    "val_acc = history.history['val_accuracy']\n",
    "epochs = range(1, len(acc) + 1)\n",
    "\n",
    "plt.plot(epochs, acc, '-', label = 'Training Accuracy')\n",
    "plt.plot(epochs, val_acc, ':', label = 'Validation Accuracy')\n",
    "plt.title('Training and Validation Accuracy')\n",
    "plt.xlabel('Epoch')\n",
    "plt.ylabel('Accuracy')\n",
    "plt.legend(loc='lower right')\n",
    "plt.plot()"
   ]
  },
  {
   "cell_type": "markdown",
   "id": "9138f515",
   "metadata": {},
   "source": [
    "### Creating a Confusion Matrix"
   ]
  },
  {
   "cell_type": "code",
   "execution_count": 17,
   "id": "e6b71a59",
   "metadata": {},
   "outputs": [],
   "source": [
    "from sklearn.metrics import confusion_matrix, classification_report\n",
    "import numpy as np\n",
    "\n",
    "X_test = []\n",
    "for i in range(len(test_generator)):\n",
    "    batch = test_generator[i]\n",
    "    X_batch = batch[0]\n",
    "    X_test.append(X_batch)\n",
    "    \n",
    "X_test = np.concatenate(X_test)\n",
    "\n",
    "y_test = []\n",
    "for i in range(len(test_generator)):\n",
    "    batch = test_generator[i]\n",
    "    y_batch = batch[1]\n",
    "    y_test.append(y_batch)\n",
    "    \n",
    "y_test = np.concatenate(y_test)"
   ]
  },
  {
   "cell_type": "code",
   "execution_count": 18,
   "id": "7a41db41",
   "metadata": {},
   "outputs": [
    {
     "name": "stdout",
     "output_type": "stream",
     "text": [
      "7/7 [==============================] - 5s 600ms/step\n",
      "[[60  0  0  0]\n",
      " [ 0 30  0  1]\n",
      " [ 0  0 69  5]\n",
      " [ 0  1  3 30]]\n"
     ]
    }
   ],
   "source": [
    "predictions = model.predict(X_test)\n",
    "conf_matrix = confusion_matrix(np.argmax(y_test, axis=1), np.argmax(predictions, axis=1))\n",
    "print(conf_matrix)"
   ]
  },
  {
   "cell_type": "code",
   "execution_count": 19,
   "id": "9fd7fe6e",
   "metadata": {
    "scrolled": true
   },
   "outputs": [
    {
     "data": {
      "text/plain": [
       "Text(89.133125, 0.5, 'Actual label')"
      ]
     },
     "execution_count": 19,
     "metadata": {},
     "output_type": "execute_result"
    },
    {
     "data": {
      "image/png": "[encoded data removed]",
      "text/plain": [
       "<Figure size 432x288 with 1 Axes>"
      ]
     },
     "metadata": {},
     "output_type": "display_data"
    }
   ],
   "source": [
    "import seaborn as sns\n",
    "\n",
    "sns.set()\n",
    "\n",
    "labels = [\"Noc w Social\", \"Noc w/out Social\", \"Pip w Social\", \"Pip w/out Social\"]\n",
    "sns.heatmap(conf_matrix, square=True, annot=True, fmt='d', cbar=False, cmap='Purples',\n",
    "           xticklabels = labels,\n",
    "           yticklabels = labels\n",
    "           )\n",
    "\n",
    "plt.xlabel('Predicted label')\n",
    "plt.ylabel('Actual label')"
   ]
  }
 ],
 "metadata": {
  "kernelspec": {
   "display_name": "disdl",
   "language": "python",
   "name": "disdl"
  },
  "language_info": {
   "codemirror_mode": {
    "name": "ipython",
    "version": 3
   },
   "file_extension": ".py",
   "mimetype": "text/x-python",
   "name": "python",
   "nbconvert_exporter": "python",
   "pygments_lexer": "ipython3",
   "version": "3.11.5"
  }
 },
 "nbformat": 4,
 "nbformat_minor": 5
}
