{
 "cells": [
  {
   "cell_type": "markdown",
   "id": "dedc2602",
   "metadata": {},
   "source": [
    "# Creating the convolutional network"
   ]
  },
  {
   "cell_type": "code",
   "execution_count": 3,
   "id": "701fb5bd",
   "metadata": {},
   "outputs": [
    {
     "name": "stdout",
     "output_type": "stream",
     "text": [
      "Model: \"sequential_2\"\n",
      "_________________________________________________________________\n",
      " Layer (type)                Output Shape              Param #   \n",
      "=================================================================\n",
      " conv2d_4 (Conv2D)           (None, 222, 144, 2)       728       \n",
      "                                                                 \n",
      " max_pooling2d_4 (MaxPooling  (None, 44, 28, 2)        0         \n",
      " 2D)                                                             \n",
      "                                                                 \n",
      " conv2d_5 (Conv2D)           (None, 41, 25, 2)         66        \n",
      "                                                                 \n",
      " max_pooling2d_5 (MaxPooling  (None, 13, 8, 2)         0         \n",
      " 2D)                                                             \n",
      "                                                                 \n",
      " flatten_2 (Flatten)         (None, 208)               0         \n",
      "                                                                 \n",
      " dense_2 (Dense)             (None, 2)                 418       \n",
      "                                                                 \n",
      "=================================================================\n",
      "Total params: 1,212\n",
      "Trainable params: 1,212\n",
      "Non-trainable params: 0\n",
      "_________________________________________________________________\n"
     ]
    }
   ],
   "source": [
    "import tensorflow as tf\n",
    "from tensorflow.keras import models, layers\n",
    "\n",
    "conv_network = models.Sequential()\n",
    "conv_network.add(layers.Conv2D(2, (11, 11), activation='relu', input_shape=(232, 154, 3)))\n",
    "conv_network.add(layers.MaxPooling2D(5,5))\n",
    "conv_network.add(layers.Conv2D(2, (4,4), activation='relu'))\n",
    "conv_network.add(layers.MaxPooling2D(3,3))\n",
    "conv_network.add(layers.Flatten())\n",
    "conv_network.add(layers.Dense(2, activation='relu'))\n",
    "\n",
    "conv_network.compile(optimizer='sgd', loss='mse', metrics=['accuracy'])\n",
    "\n",
    "conv_network.summary()"
   ]
  },
  {
   "cell_type": "markdown",
   "id": "4ab96d93",
   "metadata": {},
   "source": [
    "# Loading in the data"
   ]
  },
  {
   "cell_type": "code",
   "execution_count": 4,
   "id": "2a6353d7",
   "metadata": {},
   "outputs": [
    {
     "name": "stdout",
     "output_type": "stream",
     "text": [
      "Found 2008 files belonging to 4 classes.\n",
      "Using 1607 files for training.\n",
      "Found 2008 files belonging to 4 classes.\n",
      "Using 401 files for validation.\n"
     ]
    }
   ],
   "source": [
    "data_dir = \"/Users/kerickwalker/src/dis/deep_learning/bat_data\"\n",
    "\n",
    "img_width = 154\n",
    "img_height = 232\n",
    "batch_size = 32\n",
    "\n",
    "# Load in the training data\n",
    "training_data = tf.keras.utils.image_dataset_from_directory(\n",
    "  data_dir,\n",
    "  validation_split=0.2,\n",
    "  subset=\"training\",\n",
    "  seed=123,\n",
    "  image_size=(img_height, img_width),\n",
    "  batch_size=batch_size)\n",
    "\n",
    "# Load in validation data\n",
    "validation_data = tf.keras.utils.image_dataset_from_directory(\n",
    "  data_dir,\n",
    "  validation_split=0.2,\n",
    "  subset=\"validation\",\n",
    "  seed=123,\n",
    "  image_size=(img_height, img_width),\n",
    "  batch_size=batch_size)"
   ]
  },
  {
   "cell_type": "markdown",
   "id": "cd4adeaa",
   "metadata": {},
   "source": [
    "# Training the network"
   ]
  },
  {
   "cell_type": "code",
   "execution_count": null,
   "id": "40bc5c19",
   "metadata": {},
   "outputs": [],
   "source": [
    "conv_network.fit(training_data, validation_data=validation_data, epochs=50)"
   ]
  }
 ],
 "metadata": {
  "kernelspec": {
   "display_name": "disdl",
   "language": "python",
   "name": "disdl"
  },
  "language_info": {
   "codemirror_mode": {
    "name": "ipython",
    "version": 3
   },
   "file_extension": ".py",
   "mimetype": "text/x-python",
   "name": "python",
   "nbconvert_exporter": "python",
   "pygments_lexer": "ipython3",
   "version": "3.11.5"
  }
 },
 "nbformat": 4,
 "nbformat_minor": 5
}
